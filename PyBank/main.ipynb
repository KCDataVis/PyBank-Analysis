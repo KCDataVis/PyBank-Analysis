{
 "cells": [
  {
   "cell_type": "markdown",
   "metadata": {},
   "source": [
    "# PyBank Analysis"
   ]
  },
  {
   "cell_type": "markdown",
   "metadata": {},
   "source": [
    "### Create a Python script that analyzes the financial records provided to calculate each of the following:\n",
    "\n",
    "* The total number of months included in the dataset\n",
    "* The total net amount of \"Profit/Losses\" over the entire period\n",
    "* The average change in \"Profit/Losses\" between months over the entire period\n",
    "* The greatest increase in profits (date and amount) over the entire period\n",
    "* The greatest decrease in losses (date and amount) over the entire period"
   ]
  },
  {
   "cell_type": "code",
   "execution_count": 1,
   "metadata": {},
   "outputs": [],
   "source": [
    "# Dependencies\n",
    "import os\n",
    "import csv\n",
    "\n",
    "# Open & Read CSV Path\n",
    "csvpath = os.path.join('Resources', 'budget_data.csv')\n",
    "\n",
    "# Initialize Variables\n",
    "Months = []\n",
    "Revenue = []\n",
    "\n",
    "with open(csvpath, newline =\"\") as csvfile:\n",
    "    csvreader = csv.reader(csvfile, delimiter=\",\")\n",
    "    next(csvreader)\n",
    "    \n",
    "    \n",
    "    for row in csvreader:\n",
    "        Months.append(row[0])\n",
    "        Revenue.append(int(row[1]))\n",
    "        \n",
    "# Total Months\n",
    "        Total_Months = len(Months)\n",
    "        \n",
    "# Total Revenue\n",
    "        Total_Revenue = sum(Revenue)\n",
    "        \n",
    "# Average Change\n",
    "        Revenue_Change = []        \n",
    "        for i in range (1, len(Revenue)):\n",
    "            Revenue_Change.append(Revenue[i] - Revenue[i-1])\n",
    "            Average_Change = sum(Revenue_Change)/len(Revenue_Change)\n",
    "            \n",
    "# Greatest Increase Amount & Month\n",
    "Greatest_Increase_Amount = max(Revenue_Change)\n",
    "Greatest_Increase_Month = Months[Revenue_Change.index(Greatest_Increase_Amount)+1]\n",
    "\n",
    "# Greatest Decrease in Amount & Month\n",
    "Greatest_Decrease_Amount = min(Revenue_Change)\n",
    "Greatest_Decrease_Month = Months[Revenue_Change.index(Greatest_Decrease_Amount)+1]"
   ]
  },
  {
   "cell_type": "code",
   "execution_count": 2,
   "metadata": {},
   "outputs": [],
   "source": [
    "# Print Output\n",
    "PyBank_Analysis = (\n",
    "    f\"\\nFinancial Analysis\\n\"\n",
    "    f\"----------------------------\\n\"\n",
    "    f\"Total Months: {Total_Months}\\n\"\n",
    "    f\"Total: ${Total_Revenue}\\n\"\n",
    "    f\"Average  Change: ${Average_Change:.2f}\\n\"\n",
    "    f\"Greatest Increase in Profits: {Greatest_Increase_Month} (${Greatest_Increase_Amount})\\n\"\n",
    "    f\"Greatest Decrease in Profits: {Greatest_Decrease_Month} (${Greatest_Decrease_Amount})\\n\")\n",
    "\n",
    "# File to output\n",
    "PyBank_Output = os.path.join(\"Analysis\", \"budget_analysis.txt\")\n",
    "\n",
    "with open(PyBank_Output, \"w\") as txt_file:\n",
    "    txt_file.write(PyBank_Analysis)"
   ]
  },
  {
   "cell_type": "markdown",
   "metadata": {},
   "source": [
    "### PyBank Financial Analysis Results:"
   ]
  },
  {
   "cell_type": "code",
   "execution_count": 3,
   "metadata": {},
   "outputs": [
    {
     "name": "stdout",
     "output_type": "stream",
     "text": [
      "\n",
      "Financial Analysis\n",
      "----------------------------\n",
      "Total Months: 86\n",
      "Total: $38382578\n",
      "Average  Change: $-2315.12\n",
      "Greatest Increase in Profits: Feb-2012 ($1926159)\n",
      "Greatest Decrease in Profits: Sep-2013 ($-2196167)\n",
      "\n"
     ]
    }
   ],
   "source": [
    "print(PyBank_Analysis)"
   ]
  },
  {
   "cell_type": "code",
   "execution_count": 4,
   "metadata": {},
   "outputs": [
    {
     "data": {
      "text/plain": [
       "86"
      ]
     },
     "execution_count": 4,
     "metadata": {},
     "output_type": "execute_result"
    }
   ],
   "source": [
    "# Total Months\n",
    "Total_Months = len(Months)\n",
    "Total_Months"
   ]
  },
  {
   "cell_type": "code",
   "execution_count": 5,
   "metadata": {},
   "outputs": [
    {
     "data": {
      "text/plain": [
       "38382578"
      ]
     },
     "execution_count": 5,
     "metadata": {},
     "output_type": "execute_result"
    }
   ],
   "source": [
    "# Total Revenue\n",
    "Total_Revenue = sum(Revenue)\n",
    "Total_Revenue"
   ]
  },
  {
   "cell_type": "code",
   "execution_count": 6,
   "metadata": {},
   "outputs": [
    {
     "data": {
      "text/plain": [
       "-2315.1176470588234"
      ]
     },
     "execution_count": 6,
     "metadata": {},
     "output_type": "execute_result"
    }
   ],
   "source": [
    "# Average Change\n",
    "Average_Change = sum(Revenue_Change)/len(Revenue_Change)\n",
    "Average_Change"
   ]
  },
  {
   "cell_type": "code",
   "execution_count": 7,
   "metadata": {},
   "outputs": [
    {
     "data": {
      "text/plain": [
       "1926159"
      ]
     },
     "execution_count": 7,
     "metadata": {},
     "output_type": "execute_result"
    }
   ],
   "source": [
    "# Greatest Increase Amount\n",
    "Greatest_Increase_Amount = max(Revenue_Change)\n",
    "Greatest_Increase_Amount"
   ]
  },
  {
   "cell_type": "code",
   "execution_count": 8,
   "metadata": {},
   "outputs": [
    {
     "data": {
      "text/plain": [
       "'Feb-2012'"
      ]
     },
     "execution_count": 8,
     "metadata": {},
     "output_type": "execute_result"
    }
   ],
   "source": [
    "# Greatest Increase Month\n",
    "Greatest_Increase_Month = Months[Revenue_Change.index(Greatest_Increase_Amount)+1]\n",
    "Greatest_Increase_Month"
   ]
  },
  {
   "cell_type": "code",
   "execution_count": 9,
   "metadata": {},
   "outputs": [
    {
     "data": {
      "text/plain": [
       "-2196167"
      ]
     },
     "execution_count": 9,
     "metadata": {},
     "output_type": "execute_result"
    }
   ],
   "source": [
    "# Greatest Decrease in Amount\n",
    "Greatest_Decrease_Amount = min(Revenue_Change)\n",
    "Greatest_Decrease_Amount"
   ]
  },
  {
   "cell_type": "code",
   "execution_count": 10,
   "metadata": {},
   "outputs": [
    {
     "data": {
      "text/plain": [
       "'Sep-2013'"
      ]
     },
     "execution_count": 10,
     "metadata": {},
     "output_type": "execute_result"
    }
   ],
   "source": [
    "# Greatest Decrease Month\n",
    "Greatest_Decrease_Month = Months[Revenue_Change.index(Greatest_Decrease_Amount)+1]\n",
    "Greatest_Decrease_Month"
   ]
  }
 ],
 "metadata": {
  "kernelspec": {
   "display_name": "Python[conda env: KCDataVis]",
   "language": "python",
   "name": "env"
  },
  "language_info": {
   "codemirror_mode": {
    "name": "ipython",
    "version": 3
   },
   "file_extension": ".py",
   "mimetype": "text/x-python",
   "name": "python",
   "nbconvert_exporter": "python",
   "pygments_lexer": "ipython3",
   "version": "3.6.7"
  }
 },
 "nbformat": 4,
 "nbformat_minor": 2
}
